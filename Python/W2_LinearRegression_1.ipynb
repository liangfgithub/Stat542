{
 "cells": [
  {
   "cell_type": "markdown",
   "metadata": {},
   "source": [
    "# Stat542: Linear Regression (I)\n"
   ]
  },
  {
   "cell_type": "code",
   "execution_count": 1,
   "metadata": {},
   "outputs": [],
   "source": [
    "import pandas as pd\n",
    "import numpy as np\n",
    "import seaborn as sns\n",
    "import matplotlib.pyplot as plt"
   ]
  },
  {
   "cell_type": "markdown",
   "metadata": {},
   "source": [
    "### Prepare the Boston Housing Data"
   ]
  },
  {
   "cell_type": "code",
   "execution_count": 2,
   "metadata": {
    "scrolled": true
   },
   "outputs": [
    {
     "name": "stdout",
     "output_type": "stream",
     "text": [
      "/Users/feng_macpro/Desktop/STAT542_Liang\n"
     ]
    },
    {
     "data": {
      "text/html": [
       "<div>\n",
       "<style scoped>\n",
       "    .dataframe tbody tr th:only-of-type {\n",
       "        vertical-align: middle;\n",
       "    }\n",
       "\n",
       "    .dataframe tbody tr th {\n",
       "        vertical-align: top;\n",
       "    }\n",
       "\n",
       "    .dataframe thead th {\n",
       "        text-align: right;\n",
       "    }\n",
       "</style>\n",
       "<table border=\"1\" class=\"dataframe\">\n",
       "  <thead>\n",
       "    <tr style=\"text-align: right;\">\n",
       "      <th></th>\n",
       "      <th>crim</th>\n",
       "      <th>zn</th>\n",
       "      <th>indus</th>\n",
       "      <th>chas</th>\n",
       "      <th>nox</th>\n",
       "      <th>rm</th>\n",
       "      <th>age</th>\n",
       "      <th>dis</th>\n",
       "      <th>rad</th>\n",
       "      <th>tax</th>\n",
       "      <th>ptratio</th>\n",
       "      <th>black</th>\n",
       "      <th>lstat</th>\n",
       "      <th>medv</th>\n",
       "    </tr>\n",
       "  </thead>\n",
       "  <tbody>\n",
       "    <tr>\n",
       "      <th>0</th>\n",
       "      <td>0.00632</td>\n",
       "      <td>18.0</td>\n",
       "      <td>2.31</td>\n",
       "      <td>0</td>\n",
       "      <td>0.538</td>\n",
       "      <td>6.575</td>\n",
       "      <td>65.2</td>\n",
       "      <td>4.0900</td>\n",
       "      <td>1</td>\n",
       "      <td>296</td>\n",
       "      <td>15.3</td>\n",
       "      <td>396.90</td>\n",
       "      <td>4.98</td>\n",
       "      <td>24.0</td>\n",
       "    </tr>\n",
       "    <tr>\n",
       "      <th>1</th>\n",
       "      <td>0.02731</td>\n",
       "      <td>0.0</td>\n",
       "      <td>7.07</td>\n",
       "      <td>0</td>\n",
       "      <td>0.469</td>\n",
       "      <td>6.421</td>\n",
       "      <td>78.9</td>\n",
       "      <td>4.9671</td>\n",
       "      <td>2</td>\n",
       "      <td>242</td>\n",
       "      <td>17.8</td>\n",
       "      <td>396.90</td>\n",
       "      <td>9.14</td>\n",
       "      <td>21.6</td>\n",
       "    </tr>\n",
       "    <tr>\n",
       "      <th>2</th>\n",
       "      <td>0.02729</td>\n",
       "      <td>0.0</td>\n",
       "      <td>7.07</td>\n",
       "      <td>0</td>\n",
       "      <td>0.469</td>\n",
       "      <td>7.185</td>\n",
       "      <td>61.1</td>\n",
       "      <td>4.9671</td>\n",
       "      <td>2</td>\n",
       "      <td>242</td>\n",
       "      <td>17.8</td>\n",
       "      <td>392.83</td>\n",
       "      <td>4.03</td>\n",
       "      <td>34.7</td>\n",
       "    </tr>\n",
       "    <tr>\n",
       "      <th>3</th>\n",
       "      <td>0.03237</td>\n",
       "      <td>0.0</td>\n",
       "      <td>2.18</td>\n",
       "      <td>0</td>\n",
       "      <td>0.458</td>\n",
       "      <td>6.998</td>\n",
       "      <td>45.8</td>\n",
       "      <td>6.0622</td>\n",
       "      <td>3</td>\n",
       "      <td>222</td>\n",
       "      <td>18.7</td>\n",
       "      <td>394.63</td>\n",
       "      <td>2.94</td>\n",
       "      <td>33.4</td>\n",
       "    </tr>\n",
       "    <tr>\n",
       "      <th>4</th>\n",
       "      <td>0.06905</td>\n",
       "      <td>0.0</td>\n",
       "      <td>2.18</td>\n",
       "      <td>0</td>\n",
       "      <td>0.458</td>\n",
       "      <td>7.147</td>\n",
       "      <td>54.2</td>\n",
       "      <td>6.0622</td>\n",
       "      <td>3</td>\n",
       "      <td>222</td>\n",
       "      <td>18.7</td>\n",
       "      <td>396.90</td>\n",
       "      <td>5.33</td>\n",
       "      <td>36.2</td>\n",
       "    </tr>\n",
       "  </tbody>\n",
       "</table>\n",
       "</div>"
      ],
      "text/plain": [
       "      crim    zn  indus  chas    nox     rm   age     dis  rad  tax  ptratio  \\\n",
       "0  0.00632  18.0   2.31     0  0.538  6.575  65.2  4.0900    1  296     15.3   \n",
       "1  0.02731   0.0   7.07     0  0.469  6.421  78.9  4.9671    2  242     17.8   \n",
       "2  0.02729   0.0   7.07     0  0.469  7.185  61.1  4.9671    2  242     17.8   \n",
       "3  0.03237   0.0   2.18     0  0.458  6.998  45.8  6.0622    3  222     18.7   \n",
       "4  0.06905   0.0   2.18     0  0.458  7.147  54.2  6.0622    3  222     18.7   \n",
       "\n",
       "    black  lstat  medv  \n",
       "0  396.90   4.98  24.0  \n",
       "1  396.90   9.14  21.6  \n",
       "2  392.83   4.03  34.7  \n",
       "3  394.63   2.94  33.4  \n",
       "4  396.90   5.33  36.2  "
      ]
     },
     "execution_count": 2,
     "metadata": {},
     "output_type": "execute_result"
    }
   ],
   "source": [
    "%cd ~/Desktop/STAT542_Liang\n",
    "\n",
    "Boston = pd.read_csv(\"Data/Boston_Data.csv\") \n",
    "\n",
    "# Preview the first 5 lines of the loaded data \n",
    "Boston.head()"
   ]
  },
  {
   "cell_type": "code",
   "execution_count": 3,
   "metadata": {},
   "outputs": [
    {
     "data": {
      "text/plain": [
       "(506, 14)"
      ]
     },
     "execution_count": 3,
     "metadata": {},
     "output_type": "execute_result"
    }
   ],
   "source": [
    "Boston.shape"
   ]
  },
  {
   "cell_type": "markdown",
   "metadata": {},
   "source": [
    "Check column names"
   ]
  },
  {
   "cell_type": "code",
   "execution_count": null,
   "metadata": {},
   "outputs": [],
   "source": [
    "Boston.columns"
   ]
  },
  {
   "cell_type": "markdown",
   "metadata": {},
   "source": [
    "Check missing values"
   ]
  },
  {
   "cell_type": "code",
   "execution_count": null,
   "metadata": {},
   "outputs": [],
   "source": [
    "Boston.isnull().sum()"
   ]
  },
  {
   "cell_type": "markdown",
   "metadata": {},
   "source": [
    "The data frame contains the following columns:\n",
    "\n",
    "* crim: per capita crime rate by town.\n",
    "* zn: proportion of residential land zoned for lots over 25,000 sq.ft.\n",
    "* indus: proportion of non-retail business acres per town.\n",
    "* chas: Charles River dummy variable (= 1 if tract bounds river; 0 otherwise).\n",
    "* nox: nitrogen oxides concentration (parts per 10 million).\n",
    "* rm: average number of rooms per dwelling.\n",
    "* age: proportion of owner-occupied units built prior to 1940.\n",
    "* dis: weighted mean of distances to five Boston employment centres.\n",
    "* rad: index of accessibility to radial highways.\n",
    "* tax: full-value property-tax rate per \\$10,000.\n",
    "* ptratio: pupil-teacher ratio by town.\n",
    "* black: 1000(Bk - 0.63)^2 where Bk is the proportion of blacks by town.\n",
    "* lstat: lower status of the population (percent).\n",
    "* __medv__: median value of owner-occupied homes in $1000s.\n",
    "\n",
    "Change the response variable name to be “Y”. Next take some transformations on Y and X’s, suggested in the literature."
   ]
  },
  {
   "cell_type": "code",
   "execution_count": 6,
   "metadata": {},
   "outputs": [],
   "source": [
    "myData = Boston[list(Boston.columns.values)]\n",
    "myData.columns.values[13] = 'Y'\n",
    "iLog = ['crim', 'indus', 'nox', 'rm', 'dis', 'rad', 'tax', 'Y']\n",
    "for i in iLog:\n",
    "    myData[i] = np.log(myData[i])\n",
    "myData['zn'] = myData['zn']/10\n",
    "myData['age'] = np.power(myData['age'], 2.5) / 10000\n",
    "myData['ptratio'] = np.exp(0.4 * myData['ptratio'])/1000\n",
    "myData['black'] = myData['black']/100\n",
    "myData['lstat'] = np.sqrt(myData['lstat'])"
   ]
  },
  {
   "cell_type": "markdown",
   "metadata": {},
   "source": [
    "A quick summary of each column of myData"
   ]
  },
  {
   "cell_type": "code",
   "execution_count": 7,
   "metadata": {},
   "outputs": [
    {
     "data": {
      "text/html": [
       "<div>\n",
       "<style scoped>\n",
       "    .dataframe tbody tr th:only-of-type {\n",
       "        vertical-align: middle;\n",
       "    }\n",
       "\n",
       "    .dataframe tbody tr th {\n",
       "        vertical-align: top;\n",
       "    }\n",
       "\n",
       "    .dataframe thead th {\n",
       "        text-align: right;\n",
       "    }\n",
       "</style>\n",
       "<table border=\"1\" class=\"dataframe\">\n",
       "  <thead>\n",
       "    <tr style=\"text-align: right;\">\n",
       "      <th></th>\n",
       "      <th>crim</th>\n",
       "      <th>zn</th>\n",
       "      <th>indus</th>\n",
       "      <th>chas</th>\n",
       "      <th>nox</th>\n",
       "      <th>rm</th>\n",
       "      <th>age</th>\n",
       "      <th>dis</th>\n",
       "      <th>rad</th>\n",
       "      <th>tax</th>\n",
       "      <th>ptratio</th>\n",
       "      <th>black</th>\n",
       "      <th>lstat</th>\n",
       "      <th>Y</th>\n",
       "    </tr>\n",
       "  </thead>\n",
       "  <tbody>\n",
       "    <tr>\n",
       "      <th>count</th>\n",
       "      <td>506.000000</td>\n",
       "      <td>506.000000</td>\n",
       "      <td>506.000000</td>\n",
       "      <td>506.000000</td>\n",
       "      <td>506.000000</td>\n",
       "      <td>506.000000</td>\n",
       "      <td>506.000000</td>\n",
       "      <td>506.000000</td>\n",
       "      <td>506.000000</td>\n",
       "      <td>506.000000</td>\n",
       "      <td>506.000000</td>\n",
       "      <td>506.000000</td>\n",
       "      <td>506.000000</td>\n",
       "      <td>506.000000</td>\n",
       "    </tr>\n",
       "    <tr>\n",
       "      <th>mean</th>\n",
       "      <td>-0.780436</td>\n",
       "      <td>1.136364</td>\n",
       "      <td>2.160192</td>\n",
       "      <td>0.069170</td>\n",
       "      <td>-0.610026</td>\n",
       "      <td>1.831864</td>\n",
       "      <td>5.060790</td>\n",
       "      <td>1.188032</td>\n",
       "      <td>1.867661</td>\n",
       "      <td>5.931405</td>\n",
       "      <td>2.150054</td>\n",
       "      <td>3.566740</td>\n",
       "      <td>3.417673</td>\n",
       "      <td>3.034513</td>\n",
       "    </tr>\n",
       "    <tr>\n",
       "      <th>std</th>\n",
       "      <td>2.162050</td>\n",
       "      <td>2.332245</td>\n",
       "      <td>0.776987</td>\n",
       "      <td>0.253994</td>\n",
       "      <td>0.201483</td>\n",
       "      <td>0.112325</td>\n",
       "      <td>3.566546</td>\n",
       "      <td>0.539547</td>\n",
       "      <td>0.874833</td>\n",
       "      <td>0.396367</td>\n",
       "      <td>1.364011</td>\n",
       "      <td>0.912949</td>\n",
       "      <td>0.987167</td>\n",
       "      <td>0.408757</td>\n",
       "    </tr>\n",
       "    <tr>\n",
       "      <th>min</th>\n",
       "      <td>-5.064036</td>\n",
       "      <td>0.000000</td>\n",
       "      <td>-0.776529</td>\n",
       "      <td>0.000000</td>\n",
       "      <td>-0.954512</td>\n",
       "      <td>1.270041</td>\n",
       "      <td>0.001432</td>\n",
       "      <td>0.121864</td>\n",
       "      <td>0.000000</td>\n",
       "      <td>5.231109</td>\n",
       "      <td>0.154470</td>\n",
       "      <td>0.003200</td>\n",
       "      <td>1.315295</td>\n",
       "      <td>1.609438</td>\n",
       "    </tr>\n",
       "    <tr>\n",
       "      <th>25%</th>\n",
       "      <td>-2.500488</td>\n",
       "      <td>0.000000</td>\n",
       "      <td>1.646734</td>\n",
       "      <td>0.000000</td>\n",
       "      <td>-0.800732</td>\n",
       "      <td>1.772492</td>\n",
       "      <td>1.360301</td>\n",
       "      <td>0.742021</td>\n",
       "      <td>1.386294</td>\n",
       "      <td>5.631212</td>\n",
       "      <td>1.053634</td>\n",
       "      <td>3.753775</td>\n",
       "      <td>2.636277</td>\n",
       "      <td>2.834680</td>\n",
       "    </tr>\n",
       "    <tr>\n",
       "      <th>50%</th>\n",
       "      <td>-1.360641</td>\n",
       "      <td>0.000000</td>\n",
       "      <td>2.271094</td>\n",
       "      <td>0.000000</td>\n",
       "      <td>-0.619897</td>\n",
       "      <td>1.825919</td>\n",
       "      <td>5.287613</td>\n",
       "      <td>1.165473</td>\n",
       "      <td>1.609438</td>\n",
       "      <td>5.799093</td>\n",
       "      <td>2.038970</td>\n",
       "      <td>3.914400</td>\n",
       "      <td>3.370459</td>\n",
       "      <td>3.054001</td>\n",
       "    </tr>\n",
       "    <tr>\n",
       "      <th>75%</th>\n",
       "      <td>1.302119</td>\n",
       "      <td>1.250000</td>\n",
       "      <td>2.895912</td>\n",
       "      <td>0.000000</td>\n",
       "      <td>-0.471605</td>\n",
       "      <td>1.890624</td>\n",
       "      <td>8.583922</td>\n",
       "      <td>1.646399</td>\n",
       "      <td>3.178054</td>\n",
       "      <td>6.501290</td>\n",
       "      <td>3.229233</td>\n",
       "      <td>3.962250</td>\n",
       "      <td>4.117645</td>\n",
       "      <td>3.218876</td>\n",
       "    </tr>\n",
       "    <tr>\n",
       "      <th>max</th>\n",
       "      <td>4.488369</td>\n",
       "      <td>10.000000</td>\n",
       "      <td>3.322875</td>\n",
       "      <td>1.000000</td>\n",
       "      <td>-0.138113</td>\n",
       "      <td>2.172476</td>\n",
       "      <td>10.000000</td>\n",
       "      <td>2.495393</td>\n",
       "      <td>3.178054</td>\n",
       "      <td>6.566672</td>\n",
       "      <td>6.634244</td>\n",
       "      <td>3.969000</td>\n",
       "      <td>6.161980</td>\n",
       "      <td>3.912023</td>\n",
       "    </tr>\n",
       "  </tbody>\n",
       "</table>\n",
       "</div>"
      ],
      "text/plain": [
       "             crim          zn       indus        chas         nox          rm  \\\n",
       "count  506.000000  506.000000  506.000000  506.000000  506.000000  506.000000   \n",
       "mean    -0.780436    1.136364    2.160192    0.069170   -0.610026    1.831864   \n",
       "std      2.162050    2.332245    0.776987    0.253994    0.201483    0.112325   \n",
       "min     -5.064036    0.000000   -0.776529    0.000000   -0.954512    1.270041   \n",
       "25%     -2.500488    0.000000    1.646734    0.000000   -0.800732    1.772492   \n",
       "50%     -1.360641    0.000000    2.271094    0.000000   -0.619897    1.825919   \n",
       "75%      1.302119    1.250000    2.895912    0.000000   -0.471605    1.890624   \n",
       "max      4.488369   10.000000    3.322875    1.000000   -0.138113    2.172476   \n",
       "\n",
       "              age         dis         rad         tax     ptratio       black  \\\n",
       "count  506.000000  506.000000  506.000000  506.000000  506.000000  506.000000   \n",
       "mean     5.060790    1.188032    1.867661    5.931405    2.150054    3.566740   \n",
       "std      3.566546    0.539547    0.874833    0.396367    1.364011    0.912949   \n",
       "min      0.001432    0.121864    0.000000    5.231109    0.154470    0.003200   \n",
       "25%      1.360301    0.742021    1.386294    5.631212    1.053634    3.753775   \n",
       "50%      5.287613    1.165473    1.609438    5.799093    2.038970    3.914400   \n",
       "75%      8.583922    1.646399    3.178054    6.501290    3.229233    3.962250   \n",
       "max     10.000000    2.495393    3.178054    6.566672    6.634244    3.969000   \n",
       "\n",
       "            lstat           Y  \n",
       "count  506.000000  506.000000  \n",
       "mean     3.417673    3.034513  \n",
       "std      0.987167    0.408757  \n",
       "min      1.315295    1.609438  \n",
       "25%      2.636277    2.834680  \n",
       "50%      3.370459    3.054001  \n",
       "75%      4.117645    3.218876  \n",
       "max      6.161980    3.912023  "
      ]
     },
     "execution_count": 7,
     "metadata": {},
     "output_type": "execute_result"
    }
   ],
   "source": [
    "myData.describe(include='all')"
   ]
  },
  {
   "cell_type": "markdown",
   "metadata": {},
   "source": [
    "Produce a pair-wise scatter plot. Caution: a big figure."
   ]
  },
  {
   "cell_type": "code",
   "execution_count": null,
   "metadata": {},
   "outputs": [],
   "source": [
    "sns.pairplot(myData)"
   ]
  },
  {
   "cell_type": "markdown",
   "metadata": {},
   "source": [
    "### Fit a Linear Model\n",
    "\n",
    "Next we describe how to fit a linear regression model in Python and how to obtain the LS prediction on new samples. \n",
    "\n",
    "Our new samples are two houses with median features (i.e., all covariates except `chas` take the median value of the 506 samples), and one is close to the Charles River and the other one is not."
   ]
  },
  {
   "cell_type": "code",
   "execution_count": 9,
   "metadata": {},
   "outputs": [
    {
     "data": {
      "text/html": [
       "<div>\n",
       "<style scoped>\n",
       "    .dataframe tbody tr th:only-of-type {\n",
       "        vertical-align: middle;\n",
       "    }\n",
       "\n",
       "    .dataframe tbody tr th {\n",
       "        vertical-align: top;\n",
       "    }\n",
       "\n",
       "    .dataframe thead th {\n",
       "        text-align: right;\n",
       "    }\n",
       "</style>\n",
       "<table border=\"1\" class=\"dataframe\">\n",
       "  <thead>\n",
       "    <tr style=\"text-align: right;\">\n",
       "      <th></th>\n",
       "      <th>crim</th>\n",
       "      <th>zn</th>\n",
       "      <th>indus</th>\n",
       "      <th>chas</th>\n",
       "      <th>nox</th>\n",
       "      <th>rm</th>\n",
       "      <th>age</th>\n",
       "      <th>dis</th>\n",
       "      <th>rad</th>\n",
       "      <th>tax</th>\n",
       "      <th>ptratio</th>\n",
       "      <th>black</th>\n",
       "      <th>lstat</th>\n",
       "    </tr>\n",
       "  </thead>\n",
       "  <tbody>\n",
       "    <tr>\n",
       "      <th>0</th>\n",
       "      <td>-1.360641</td>\n",
       "      <td>0.0</td>\n",
       "      <td>2.271094</td>\n",
       "      <td>0</td>\n",
       "      <td>-0.619897</td>\n",
       "      <td>1.825919</td>\n",
       "      <td>5.287613</td>\n",
       "      <td>1.165473</td>\n",
       "      <td>1.609438</td>\n",
       "      <td>5.799093</td>\n",
       "      <td>2.03897</td>\n",
       "      <td>3.9144</td>\n",
       "      <td>3.370459</td>\n",
       "    </tr>\n",
       "    <tr>\n",
       "      <th>1</th>\n",
       "      <td>-1.360641</td>\n",
       "      <td>0.0</td>\n",
       "      <td>2.271094</td>\n",
       "      <td>1</td>\n",
       "      <td>-0.619897</td>\n",
       "      <td>1.825919</td>\n",
       "      <td>5.287613</td>\n",
       "      <td>1.165473</td>\n",
       "      <td>1.609438</td>\n",
       "      <td>5.799093</td>\n",
       "      <td>2.03897</td>\n",
       "      <td>3.9144</td>\n",
       "      <td>3.370459</td>\n",
       "    </tr>\n",
       "  </tbody>\n",
       "</table>\n",
       "</div>"
      ],
      "text/plain": [
       "       crim   zn     indus  chas       nox        rm       age       dis  \\\n",
       "0 -1.360641  0.0  2.271094     0 -0.619897  1.825919  5.287613  1.165473   \n",
       "1 -1.360641  0.0  2.271094     1 -0.619897  1.825919  5.287613  1.165473   \n",
       "\n",
       "        rad       tax  ptratio   black     lstat  \n",
       "0  1.609438  5.799093  2.03897  3.9144  3.370459  \n",
       "1  1.609438  5.799093  2.03897  3.9144  3.370459  "
      ]
     },
     "execution_count": 9,
     "metadata": {},
     "output_type": "execute_result"
    }
   ],
   "source": [
    "Xnew = pd.concat([myData.median()] * 2, axis = 1)\n",
    "Xnew = pd.DataFrame(Xnew).transpose()\n",
    "Xnew['chas'] = [0, 1]\n",
    "Xnew = Xnew.iloc[:, :-1]\n",
    "Xnew"
   ]
  },
  {
   "cell_type": "markdown",
   "metadata": {},
   "source": [
    "We consider __Three__ different ways to fit a linear regression model in Python: \n",
    "\n",
    "1. Use `sklearn.linear_model`"
   ]
  },
  {
   "cell_type": "code",
   "execution_count": null,
   "metadata": {},
   "outputs": [],
   "source": [
    "from sklearn.linear_model import LinearRegression as lm\n",
    "X = myData.iloc[:, :-1]\n",
    "lmfit1 = lm()\n",
    "lmfit1.fit(X, myData['Y'])\n",
    "print(lmfit1.coef_)\n",
    "print(lmfit1.intercept_)"
   ]
  },
  {
   "cell_type": "code",
   "execution_count": 11,
   "metadata": {},
   "outputs": [
    {
     "name": "stdout",
     "output_type": "stream",
     "text": [
      "[3.07962244 3.18960258] [3.07962244 3.18960258]\n"
     ]
    }
   ],
   "source": [
    "print(lmfit1.predict(Xnew), lmfit1.intercept_ + np.inner(Xnew, lmfit1.coef_)) "
   ]
  },
  {
   "cell_type": "markdown",
   "metadata": {},
   "source": [
    "2. Use `statsmodels.formula.api`. You can use R-style formulas to specific models, but you cannot use `Y ~ . ` and have to list all the covariates included in the model. "
   ]
  },
  {
   "cell_type": "code",
   "execution_count": 12,
   "metadata": {},
   "outputs": [
    {
     "data": {
      "text/html": [
       "<table class=\"simpletable\">\n",
       "<caption>OLS Regression Results</caption>\n",
       "<tr>\n",
       "  <th>Dep. Variable:</th>            <td>Y</td>        <th>  R-squared:         </th> <td>   0.765</td> \n",
       "</tr>\n",
       "<tr>\n",
       "  <th>Model:</th>                   <td>OLS</td>       <th>  Adj. R-squared:    </th> <td>   0.759</td> \n",
       "</tr>\n",
       "<tr>\n",
       "  <th>Method:</th>             <td>Least Squares</td>  <th>  F-statistic:       </th> <td>   123.2</td> \n",
       "</tr>\n",
       "<tr>\n",
       "  <th>Date:</th>             <td>Tue, 17 Sep 2019</td> <th>  Prob (F-statistic):</th> <td>2.33e-145</td>\n",
       "</tr>\n",
       "<tr>\n",
       "  <th>Time:</th>                 <td>00:51:42</td>     <th>  Log-Likelihood:    </th> <td>  101.59</td> \n",
       "</tr>\n",
       "<tr>\n",
       "  <th>No. Observations:</th>      <td>   506</td>      <th>  AIC:               </th> <td>  -175.2</td> \n",
       "</tr>\n",
       "<tr>\n",
       "  <th>Df Residuals:</th>          <td>   492</td>      <th>  BIC:               </th> <td>  -116.0</td> \n",
       "</tr>\n",
       "<tr>\n",
       "  <th>Df Model:</th>              <td>    13</td>      <th>                     </th>     <td> </td>    \n",
       "</tr>\n",
       "<tr>\n",
       "  <th>Covariance Type:</th>      <td>nonrobust</td>    <th>                     </th>     <td> </td>    \n",
       "</tr>\n",
       "</table>\n",
       "<table class=\"simpletable\">\n",
       "<tr>\n",
       "      <td></td>         <th>coef</th>     <th>std err</th>      <th>t</th>      <th>P>|t|</th>  <th>[0.025</th>    <th>0.975]</th>  \n",
       "</tr>\n",
       "<tr>\n",
       "  <th>Intercept</th> <td>    4.1769</td> <td>    0.379</td> <td>   11.020</td> <td> 0.000</td> <td>    3.432</td> <td>    4.922</td>\n",
       "</tr>\n",
       "<tr>\n",
       "  <th>crim</th>      <td>   -0.0146</td> <td>    0.012</td> <td>   -1.254</td> <td> 0.211</td> <td>   -0.037</td> <td>    0.008</td>\n",
       "</tr>\n",
       "<tr>\n",
       "  <th>zn</th>        <td>    0.0014</td> <td>    0.006</td> <td>    0.247</td> <td> 0.805</td> <td>   -0.010</td> <td>    0.012</td>\n",
       "</tr>\n",
       "<tr>\n",
       "  <th>indus</th>     <td>   -0.0127</td> <td>    0.022</td> <td>   -0.570</td> <td> 0.569</td> <td>   -0.057</td> <td>    0.031</td>\n",
       "</tr>\n",
       "<tr>\n",
       "  <th>chas</th>      <td>    0.1100</td> <td>    0.037</td> <td>    3.002</td> <td> 0.003</td> <td>    0.038</td> <td>    0.182</td>\n",
       "</tr>\n",
       "<tr>\n",
       "  <th>nox</th>       <td>   -0.2831</td> <td>    0.105</td> <td>   -2.688</td> <td> 0.007</td> <td>   -0.490</td> <td>   -0.076</td>\n",
       "</tr>\n",
       "<tr>\n",
       "  <th>rm</th>        <td>    0.4211</td> <td>    0.110</td> <td>    3.822</td> <td> 0.000</td> <td>    0.205</td> <td>    0.638</td>\n",
       "</tr>\n",
       "<tr>\n",
       "  <th>age</th>       <td>    0.0064</td> <td>    0.005</td> <td>    1.317</td> <td> 0.189</td> <td>   -0.003</td> <td>    0.016</td>\n",
       "</tr>\n",
       "<tr>\n",
       "  <th>dis</th>       <td>   -0.1832</td> <td>    0.037</td> <td>   -4.977</td> <td> 0.000</td> <td>   -0.255</td> <td>   -0.111</td>\n",
       "</tr>\n",
       "<tr>\n",
       "  <th>rad</th>       <td>    0.0684</td> <td>    0.022</td> <td>    3.042</td> <td> 0.002</td> <td>    0.024</td> <td>    0.113</td>\n",
       "</tr>\n",
       "<tr>\n",
       "  <th>tax</th>       <td>   -0.2018</td> <td>    0.048</td> <td>   -4.167</td> <td> 0.000</td> <td>   -0.297</td> <td>   -0.107</td>\n",
       "</tr>\n",
       "<tr>\n",
       "  <th>ptratio</th>   <td>   -0.0400</td> <td>    0.008</td> <td>   -4.946</td> <td> 0.000</td> <td>   -0.056</td> <td>   -0.024</td>\n",
       "</tr>\n",
       "<tr>\n",
       "  <th>black</th>     <td>    0.0445</td> <td>    0.011</td> <td>    3.882</td> <td> 0.000</td> <td>    0.022</td> <td>    0.067</td>\n",
       "</tr>\n",
       "<tr>\n",
       "  <th>lstat</th>     <td>   -0.2626</td> <td>    0.016</td> <td>  -16.320</td> <td> 0.000</td> <td>   -0.294</td> <td>   -0.231</td>\n",
       "</tr>\n",
       "</table>\n",
       "<table class=\"simpletable\">\n",
       "<tr>\n",
       "  <th>Omnibus:</th>       <td>50.620</td> <th>  Durbin-Watson:     </th> <td>   1.001</td>\n",
       "</tr>\n",
       "<tr>\n",
       "  <th>Prob(Omnibus):</th> <td> 0.000</td> <th>  Jarque-Bera (JB):  </th> <td> 240.340</td>\n",
       "</tr>\n",
       "<tr>\n",
       "  <th>Skew:</th>          <td>-0.257</td> <th>  Prob(JB):          </th> <td>6.47e-53</td>\n",
       "</tr>\n",
       "<tr>\n",
       "  <th>Kurtosis:</th>      <td> 6.337</td> <th>  Cond. No.          </th> <td>    458.</td>\n",
       "</tr>\n",
       "</table><br/><br/>Warnings:<br/>[1] Standard Errors assume that the covariance matrix of the errors is correctly specified."
      ],
      "text/plain": [
       "<class 'statsmodels.iolib.summary.Summary'>\n",
       "\"\"\"\n",
       "                            OLS Regression Results                            \n",
       "==============================================================================\n",
       "Dep. Variable:                      Y   R-squared:                       0.765\n",
       "Model:                            OLS   Adj. R-squared:                  0.759\n",
       "Method:                 Least Squares   F-statistic:                     123.2\n",
       "Date:                Tue, 17 Sep 2019   Prob (F-statistic):          2.33e-145\n",
       "Time:                        00:51:42   Log-Likelihood:                 101.59\n",
       "No. Observations:                 506   AIC:                            -175.2\n",
       "Df Residuals:                     492   BIC:                            -116.0\n",
       "Df Model:                          13                                         \n",
       "Covariance Type:            nonrobust                                         \n",
       "==============================================================================\n",
       "                 coef    std err          t      P>|t|      [0.025      0.975]\n",
       "------------------------------------------------------------------------------\n",
       "Intercept      4.1769      0.379     11.020      0.000       3.432       4.922\n",
       "crim          -0.0146      0.012     -1.254      0.211      -0.037       0.008\n",
       "zn             0.0014      0.006      0.247      0.805      -0.010       0.012\n",
       "indus         -0.0127      0.022     -0.570      0.569      -0.057       0.031\n",
       "chas           0.1100      0.037      3.002      0.003       0.038       0.182\n",
       "nox           -0.2831      0.105     -2.688      0.007      -0.490      -0.076\n",
       "rm             0.4211      0.110      3.822      0.000       0.205       0.638\n",
       "age            0.0064      0.005      1.317      0.189      -0.003       0.016\n",
       "dis           -0.1832      0.037     -4.977      0.000      -0.255      -0.111\n",
       "rad            0.0684      0.022      3.042      0.002       0.024       0.113\n",
       "tax           -0.2018      0.048     -4.167      0.000      -0.297      -0.107\n",
       "ptratio       -0.0400      0.008     -4.946      0.000      -0.056      -0.024\n",
       "black          0.0445      0.011      3.882      0.000       0.022       0.067\n",
       "lstat         -0.2626      0.016    -16.320      0.000      -0.294      -0.231\n",
       "==============================================================================\n",
       "Omnibus:                       50.620   Durbin-Watson:                   1.001\n",
       "Prob(Omnibus):                  0.000   Jarque-Bera (JB):              240.340\n",
       "Skew:                          -0.257   Prob(JB):                     6.47e-53\n",
       "Kurtosis:                       6.337   Cond. No.                         458.\n",
       "==============================================================================\n",
       "\n",
       "Warnings:\n",
       "[1] Standard Errors assume that the covariance matrix of the errors is correctly specified.\n",
       "\"\"\""
      ]
     },
     "execution_count": 12,
     "metadata": {},
     "output_type": "execute_result"
    }
   ],
   "source": [
    "import statsmodels.formula.api as smf\n",
    "all_covariates = list(myData.columns)\n",
    "all_covariates.remove('Y')\n",
    "my_formula = \"Y ~ \" + \"+\".join(all_covariates)\n",
    "lmfit2 = smf.ols(formula = my_formula, data = myData).fit()\n",
    "lmfit2.summary()"
   ]
  },
  {
   "cell_type": "code",
   "execution_count": 13,
   "metadata": {},
   "outputs": [
    {
     "data": {
      "text/plain": [
       "0    3.079622\n",
       "1    3.189603\n",
       "dtype: float64"
      ]
     },
     "execution_count": 13,
     "metadata": {},
     "output_type": "execute_result"
    }
   ],
   "source": [
    "lmfit2.predict(Xnew)"
   ]
  },
  {
   "cell_type": "code",
   "execution_count": 14,
   "metadata": {},
   "outputs": [
    {
     "data": {
      "text/plain": [
       "array([3.07962244, 3.18960258])"
      ]
     },
     "execution_count": 14,
     "metadata": {},
     "output_type": "execute_result"
    }
   ],
   "source": [
    "lmfit2.params[0] + np.inner(Xnew, lmfit2.params[1:])"
   ]
  },
  {
   "cell_type": "markdown",
   "metadata": {},
   "source": [
    "3. Use `statsmodels.api`. When using `statsmodels.formula.api`, like in R, the intercept will be automaticlaly added to the model, but this is not the case with `statsmodels.api`. "
   ]
  },
  {
   "cell_type": "code",
   "execution_count": null,
   "metadata": {},
   "outputs": [],
   "source": [
    "import statsmodels.api as sm\n",
    "X = myData.iloc[:, :-1]\n",
    "X = sm.add_constant(X) # need to add the constant in the design matrix\n",
    "X.head()\n",
    "lmfit3 = sm.OLS(myData['Y'], X).fit()\n",
    "lmfit3.summary()"
   ]
  },
  {
   "cell_type": "markdown",
   "metadata": {},
   "source": [
    "To use the built-in prediction function for `sm.OLS`, we need to add a constant term to Xnew. However, Xnew already has some constant columns (i.e., columns of identical values); by default, `sm.add_constant` won't add a constant column to Xnew. So we need to use the option `has_constant='add'`"
   ]
  },
  {
   "cell_type": "code",
   "execution_count": null,
   "metadata": {},
   "outputs": [],
   "source": [
    "Xnew_const = sm.add_constant(Xnew, has_constant='add')\n",
    "lmfit3.predict(Xnew_const)"
   ]
  },
  {
   "cell_type": "code",
   "execution_count": null,
   "metadata": {},
   "outputs": [],
   "source": [
    "np.inner(Xnew_const, lmfit3.params)"
   ]
  },
  {
   "cell_type": "markdown",
   "metadata": {},
   "source": [
    "### How to Compute Some Regression Outputs\n",
    "\n",
    "Next, let's check how residual standard error, Log-Likelihood, and R-square are computed using the output from the second approach `lmfit2`"
   ]
  },
  {
   "cell_type": "code",
   "execution_count": 18,
   "metadata": {},
   "outputs": [
    {
     "data": {
      "text/plain": [
       "506"
      ]
     },
     "execution_count": 18,
     "metadata": {},
     "output_type": "execute_result"
    }
   ],
   "source": [
    "residuals = myData['Y'] - lmfit2.predict()\n",
    "len(residuals)"
   ]
  },
  {
   "cell_type": "code",
   "execution_count": 19,
   "metadata": {},
   "outputs": [
    {
     "data": {
      "text/plain": [
       "0.20075284297263912"
      ]
     },
     "execution_count": 19,
     "metadata": {},
     "output_type": "execute_result"
    }
   ],
   "source": [
    "sigma_hat = np.sqrt(np.sum(residuals**2)/(506 - 14)) # Residual Standard Error\n",
    "sigma_hat"
   ]
  },
  {
   "cell_type": "code",
   "execution_count": 20,
   "metadata": {},
   "outputs": [
    {
     "data": {
      "text/plain": [
       "101.49156903489637"
      ]
     },
     "execution_count": 20,
     "metadata": {},
     "output_type": "execute_result"
    }
   ],
   "source": [
    "-(506/2)*np.log(2*np.pi*(sigma_hat**2)) - (506-14)/2 # Log-Likelihood"
   ]
  },
  {
   "cell_type": "code",
   "execution_count": 21,
   "metadata": {},
   "outputs": [
    {
     "data": {
      "text/plain": [
       "0.7650004422627311"
      ]
     },
     "execution_count": 21,
     "metadata": {},
     "output_type": "execute_result"
    }
   ],
   "source": [
    "1 - np.sum(residuals**2)/(myData.loc[:, 'Y'].var()*505)  # R-square"
   ]
  },
  {
   "cell_type": "markdown",
   "metadata": {},
   "source": [
    "### Rank Deficiency\n",
    "\n",
    "If the design matrix (including the intercept) is not of full rank, as we have learned in class, the LS coefficient vector is not unique. \n",
    "\n",
    "In the following example, we add a redudant column variable `junk` to `myData`, and then fit a linear model using `statsmodels.formula.api` and `sklearn.linear_model`. Python will return just one of many equivalent LS solutions along with a warning on design matrix being singular. You can still use the fitted model to do prediction. The prediction result is the same as before. "
   ]
  },
  {
   "cell_type": "code",
   "execution_count": 22,
   "metadata": {},
   "outputs": [
    {
     "data": {
      "text/html": [
       "<table class=\"simpletable\">\n",
       "<caption>OLS Regression Results</caption>\n",
       "<tr>\n",
       "  <th>Dep. Variable:</th>            <td>Y</td>        <th>  R-squared:         </th> <td>   0.765</td> \n",
       "</tr>\n",
       "<tr>\n",
       "  <th>Model:</th>                   <td>OLS</td>       <th>  Adj. R-squared:    </th> <td>   0.759</td> \n",
       "</tr>\n",
       "<tr>\n",
       "  <th>Method:</th>             <td>Least Squares</td>  <th>  F-statistic:       </th> <td>   123.2</td> \n",
       "</tr>\n",
       "<tr>\n",
       "  <th>Date:</th>             <td>Tue, 17 Sep 2019</td> <th>  Prob (F-statistic):</th> <td>2.33e-145</td>\n",
       "</tr>\n",
       "<tr>\n",
       "  <th>Time:</th>                 <td>00:51:43</td>     <th>  Log-Likelihood:    </th> <td>  101.59</td> \n",
       "</tr>\n",
       "<tr>\n",
       "  <th>No. Observations:</th>      <td>   506</td>      <th>  AIC:               </th> <td>  -175.2</td> \n",
       "</tr>\n",
       "<tr>\n",
       "  <th>Df Residuals:</th>          <td>   492</td>      <th>  BIC:               </th> <td>  -116.0</td> \n",
       "</tr>\n",
       "<tr>\n",
       "  <th>Df Model:</th>              <td>    13</td>      <th>                     </th>     <td> </td>    \n",
       "</tr>\n",
       "<tr>\n",
       "  <th>Covariance Type:</th>      <td>nonrobust</td>    <th>                     </th>     <td> </td>    \n",
       "</tr>\n",
       "</table>\n",
       "<table class=\"simpletable\">\n",
       "<tr>\n",
       "      <td></td>         <th>coef</th>     <th>std err</th>      <th>t</th>      <th>P>|t|</th>  <th>[0.025</th>    <th>0.975]</th>  \n",
       "</tr>\n",
       "<tr>\n",
       "  <th>Intercept</th> <td>    4.1769</td> <td>    0.379</td> <td>   11.020</td> <td> 0.000</td> <td>    3.432</td> <td>    4.922</td>\n",
       "</tr>\n",
       "<tr>\n",
       "  <th>crim</th>      <td>   -0.0102</td> <td>    0.008</td> <td>   -1.303</td> <td> 0.193</td> <td>   -0.026</td> <td>    0.005</td>\n",
       "</tr>\n",
       "<tr>\n",
       "  <th>zn</th>        <td>    0.0058</td> <td>    0.005</td> <td>    1.122</td> <td> 0.262</td> <td>   -0.004</td> <td>    0.016</td>\n",
       "</tr>\n",
       "<tr>\n",
       "  <th>indus</th>     <td>   -0.0127</td> <td>    0.022</td> <td>   -0.570</td> <td> 0.569</td> <td>   -0.057</td> <td>    0.031</td>\n",
       "</tr>\n",
       "<tr>\n",
       "  <th>chas</th>      <td>    0.1100</td> <td>    0.037</td> <td>    3.002</td> <td> 0.003</td> <td>    0.038</td> <td>    0.182</td>\n",
       "</tr>\n",
       "<tr>\n",
       "  <th>nox</th>       <td>   -0.2831</td> <td>    0.105</td> <td>   -2.688</td> <td> 0.007</td> <td>   -0.490</td> <td>   -0.076</td>\n",
       "</tr>\n",
       "<tr>\n",
       "  <th>rm</th>        <td>    0.4211</td> <td>    0.110</td> <td>    3.822</td> <td> 0.000</td> <td>    0.205</td> <td>    0.638</td>\n",
       "</tr>\n",
       "<tr>\n",
       "  <th>age</th>       <td>    0.0064</td> <td>    0.005</td> <td>    1.317</td> <td> 0.189</td> <td>   -0.003</td> <td>    0.016</td>\n",
       "</tr>\n",
       "<tr>\n",
       "  <th>dis</th>       <td>   -0.1832</td> <td>    0.037</td> <td>   -4.977</td> <td> 0.000</td> <td>   -0.255</td> <td>   -0.111</td>\n",
       "</tr>\n",
       "<tr>\n",
       "  <th>rad</th>       <td>    0.0684</td> <td>    0.022</td> <td>    3.042</td> <td> 0.002</td> <td>    0.024</td> <td>    0.113</td>\n",
       "</tr>\n",
       "<tr>\n",
       "  <th>tax</th>       <td>   -0.2018</td> <td>    0.048</td> <td>   -4.167</td> <td> 0.000</td> <td>   -0.297</td> <td>   -0.107</td>\n",
       "</tr>\n",
       "<tr>\n",
       "  <th>ptratio</th>   <td>   -0.0400</td> <td>    0.008</td> <td>   -4.946</td> <td> 0.000</td> <td>   -0.056</td> <td>   -0.024</td>\n",
       "</tr>\n",
       "<tr>\n",
       "  <th>black</th>     <td>    0.0445</td> <td>    0.011</td> <td>    3.882</td> <td> 0.000</td> <td>    0.022</td> <td>    0.067</td>\n",
       "</tr>\n",
       "<tr>\n",
       "  <th>lstat</th>     <td>   -0.2626</td> <td>    0.016</td> <td>  -16.320</td> <td> 0.000</td> <td>   -0.294</td> <td>   -0.231</td>\n",
       "</tr>\n",
       "<tr>\n",
       "  <th>junk</th>      <td>   -0.0044</td> <td>    0.004</td> <td>   -0.988</td> <td> 0.324</td> <td>   -0.013</td> <td>    0.004</td>\n",
       "</tr>\n",
       "</table>\n",
       "<table class=\"simpletable\">\n",
       "<tr>\n",
       "  <th>Omnibus:</th>       <td>50.620</td> <th>  Durbin-Watson:     </th> <td>   1.001</td>\n",
       "</tr>\n",
       "<tr>\n",
       "  <th>Prob(Omnibus):</th> <td> 0.000</td> <th>  Jarque-Bera (JB):  </th> <td> 240.340</td>\n",
       "</tr>\n",
       "<tr>\n",
       "  <th>Skew:</th>          <td>-0.257</td> <th>  Prob(JB):          </th> <td>6.47e-53</td>\n",
       "</tr>\n",
       "<tr>\n",
       "  <th>Kurtosis:</th>      <td> 6.337</td> <th>  Cond. No.          </th> <td>1.62e+16</td>\n",
       "</tr>\n",
       "</table><br/><br/>Warnings:<br/>[1] Standard Errors assume that the covariance matrix of the errors is correctly specified.<br/>[2] The smallest eigenvalue is 2.13e-28. This might indicate that there are<br/>strong multicollinearity problems or that the design matrix is singular."
      ],
      "text/plain": [
       "<class 'statsmodels.iolib.summary.Summary'>\n",
       "\"\"\"\n",
       "                            OLS Regression Results                            \n",
       "==============================================================================\n",
       "Dep. Variable:                      Y   R-squared:                       0.765\n",
       "Model:                            OLS   Adj. R-squared:                  0.759\n",
       "Method:                 Least Squares   F-statistic:                     123.2\n",
       "Date:                Tue, 17 Sep 2019   Prob (F-statistic):          2.33e-145\n",
       "Time:                        00:51:43   Log-Likelihood:                 101.59\n",
       "No. Observations:                 506   AIC:                            -175.2\n",
       "Df Residuals:                     492   BIC:                            -116.0\n",
       "Df Model:                          13                                         \n",
       "Covariance Type:            nonrobust                                         \n",
       "==============================================================================\n",
       "                 coef    std err          t      P>|t|      [0.025      0.975]\n",
       "------------------------------------------------------------------------------\n",
       "Intercept      4.1769      0.379     11.020      0.000       3.432       4.922\n",
       "crim          -0.0102      0.008     -1.303      0.193      -0.026       0.005\n",
       "zn             0.0058      0.005      1.122      0.262      -0.004       0.016\n",
       "indus         -0.0127      0.022     -0.570      0.569      -0.057       0.031\n",
       "chas           0.1100      0.037      3.002      0.003       0.038       0.182\n",
       "nox           -0.2831      0.105     -2.688      0.007      -0.490      -0.076\n",
       "rm             0.4211      0.110      3.822      0.000       0.205       0.638\n",
       "age            0.0064      0.005      1.317      0.189      -0.003       0.016\n",
       "dis           -0.1832      0.037     -4.977      0.000      -0.255      -0.111\n",
       "rad            0.0684      0.022      3.042      0.002       0.024       0.113\n",
       "tax           -0.2018      0.048     -4.167      0.000      -0.297      -0.107\n",
       "ptratio       -0.0400      0.008     -4.946      0.000      -0.056      -0.024\n",
       "black          0.0445      0.011      3.882      0.000       0.022       0.067\n",
       "lstat         -0.2626      0.016    -16.320      0.000      -0.294      -0.231\n",
       "junk          -0.0044      0.004     -0.988      0.324      -0.013       0.004\n",
       "==============================================================================\n",
       "Omnibus:                       50.620   Durbin-Watson:                   1.001\n",
       "Prob(Omnibus):                  0.000   Jarque-Bera (JB):              240.340\n",
       "Skew:                          -0.257   Prob(JB):                     6.47e-53\n",
       "Kurtosis:                       6.337   Cond. No.                     1.62e+16\n",
       "==============================================================================\n",
       "\n",
       "Warnings:\n",
       "[1] Standard Errors assume that the covariance matrix of the errors is correctly specified.\n",
       "[2] The smallest eigenvalue is 2.13e-28. This might indicate that there are\n",
       "strong multicollinearity problems or that the design matrix is singular.\n",
       "\"\"\""
      ]
     },
     "execution_count": 22,
     "metadata": {},
     "output_type": "execute_result"
    }
   ],
   "source": [
    "myData['junk'] = myData['crim'] + myData['zn']\n",
    "my_formula = my_formula + '+ junk'\n",
    "tmpfit2 = smf.ols(formula = my_formula, data = myData).fit()\n",
    "tmpfit2.summary()"
   ]
  },
  {
   "cell_type": "code",
   "execution_count": 23,
   "metadata": {},
   "outputs": [
    {
     "data": {
      "text/plain": [
       "0    3.071694\n",
       "1    3.189603\n",
       "dtype: float64"
      ]
     },
     "execution_count": 23,
     "metadata": {},
     "output_type": "execute_result"
    }
   ],
   "source": [
    "Xnew['junk'] = Xnew['crim'] + X['zn']\n",
    "tmpfit2.predict(Xnew)"
   ]
  },
  {
   "cell_type": "code",
   "execution_count": 24,
   "metadata": {},
   "outputs": [
    {
     "name": "stdout",
     "output_type": "stream",
     "text": [
      "[-0.01020156  0.00579675 -0.01270937  0.10998014 -0.28311188  0.42110784\n",
      "  0.00640337 -0.18315429  0.06836159 -0.20183238 -0.04001744  0.04447193\n",
      " -0.26261509 -0.00440481]\n",
      "4.176874035061328\n"
     ]
    }
   ],
   "source": [
    "X = myData.drop(['Y'], axis=1)\n",
    "tmpfit1 = lm()\n",
    "tmpfit1.fit(X, myData['Y'])\n",
    "print(tmpfit1.coef_)\n",
    "print(tmpfit1.intercept_)"
   ]
  },
  {
   "cell_type": "code",
   "execution_count": 25,
   "metadata": {},
   "outputs": [
    {
     "data": {
      "text/plain": [
       "array([3.07169378, 3.18960258])"
      ]
     },
     "execution_count": 25,
     "metadata": {},
     "output_type": "execute_result"
    }
   ],
   "source": [
    "tmpfit1.predict(Xnew)"
   ]
  }
 ],
 "metadata": {
  "kernelspec": {
   "display_name": "Python 3",
   "language": "python",
   "name": "python3"
  },
  "language_info": {
   "codemirror_mode": {
    "name": "ipython",
    "version": 3
   },
   "file_extension": ".py",
   "mimetype": "text/x-python",
   "name": "python",
   "nbconvert_exporter": "python",
   "pygments_lexer": "ipython3",
   "version": "3.7.0"
  }
 },
 "nbformat": 4,
 "nbformat_minor": 2
}
